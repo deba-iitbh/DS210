{
 "cells": [
  {
   "cell_type": "markdown",
   "id": "325946d4-7f19-4bc6-8386-e75e06861556",
   "metadata": {
    "tags": []
   },
   "source": [
    "# DS210 Lab-3\n",
    "Name:  \n",
    "Roll No:  "
   ]
  },
  {
   "cell_type": "markdown",
   "id": "5985f004-aee2-44b4-9e05-e64525f2ae5d",
   "metadata": {},
   "source": [
    "# Visulization of AMEO\n",
    "\n",
    "## Why this dataset?\n",
    "It is a unique dataset which contains engineering graduates’ employment outcomes (salaries, job titles and job locations) along with standardized assessment scores in three fundamental areas - cognitive skills, technical skills and personality."
   ]
  },
  {
   "cell_type": "markdown",
   "id": "8038d7b6-ca25-485b-aa1e-25912dc716fe",
   "metadata": {},
   "source": [
    "\n",
    "### Import Libraries"
   ]
  },
  {
   "cell_type": "code",
   "execution_count": 1,
   "id": "770c780e-db43-4a05-a940-e01b8cfdaf99",
   "metadata": {},
   "outputs": [],
   "source": [
    "import pandas as pd\n",
    "import numpy as np\n",
    "import seaborn as sns\n",
    "import matplotlib.pyplot as plt\n",
    "%matplotlib inline\n",
    "sns.set(style=\"whitegrid\", color_codes=True)\n",
    "\n",
    "pd.set_option('display.max_columns', None)"
   ]
  },
  {
   "cell_type": "code",
   "execution_count": 2,
   "id": "ae60360d-8092-4c91-b8dd-dfc76b73f8eb",
   "metadata": {},
   "outputs": [
    {
     "data": {
      "text/html": [
       "<div>\n",
       "<style scoped>\n",
       "    .dataframe tbody tr th:only-of-type {\n",
       "        vertical-align: middle;\n",
       "    }\n",
       "\n",
       "    .dataframe tbody tr th {\n",
       "        vertical-align: top;\n",
       "    }\n",
       "\n",
       "    .dataframe thead th {\n",
       "        text-align: right;\n",
       "    }\n",
       "</style>\n",
       "<table border=\"1\" class=\"dataframe\">\n",
       "  <thead>\n",
       "    <tr style=\"text-align: right;\">\n",
       "      <th></th>\n",
       "      <th>Salary</th>\n",
       "      <th>Gender</th>\n",
       "      <th>10percentage</th>\n",
       "      <th>12percentage</th>\n",
       "      <th>12board</th>\n",
       "      <th>Degree</th>\n",
       "      <th>Specialization</th>\n",
       "      <th>collegeGPA</th>\n",
       "      <th>English</th>\n",
       "      <th>Logical</th>\n",
       "      <th>Quant</th>\n",
       "      <th>Domain</th>\n",
       "      <th>ComputerProgramming</th>\n",
       "      <th>ComputerScience</th>\n",
       "      <th>conscientiousness</th>\n",
       "      <th>agreeableness</th>\n",
       "      <th>extraversion</th>\n",
       "      <th>nueroticism</th>\n",
       "      <th>openess_to_experience</th>\n",
       "      <th>12GradAge</th>\n",
       "      <th>GradAge</th>\n",
       "    </tr>\n",
       "  </thead>\n",
       "  <tbody>\n",
       "    <tr>\n",
       "      <th>0</th>\n",
       "      <td>300000</td>\n",
       "      <td>m</td>\n",
       "      <td>89.92</td>\n",
       "      <td>87.00</td>\n",
       "      <td>state</td>\n",
       "      <td>B.Tech/B.E.</td>\n",
       "      <td>EC</td>\n",
       "      <td>76.32</td>\n",
       "      <td>560</td>\n",
       "      <td>555</td>\n",
       "      <td>620</td>\n",
       "      <td>0.000000</td>\n",
       "      <td>645</td>\n",
       "      <td>407</td>\n",
       "      <td>-0.3027</td>\n",
       "      <td>-0.6201</td>\n",
       "      <td>-2.2954</td>\n",
       "      <td>-0.7415</td>\n",
       "      <td>-0.8608</td>\n",
       "      <td>22</td>\n",
       "      <td>22</td>\n",
       "    </tr>\n",
       "    <tr>\n",
       "      <th>1</th>\n",
       "      <td>300000</td>\n",
       "      <td>m</td>\n",
       "      <td>86.08</td>\n",
       "      <td>67.50</td>\n",
       "      <td>state</td>\n",
       "      <td>B.Tech/B.E.</td>\n",
       "      <td>CS</td>\n",
       "      <td>72.98</td>\n",
       "      <td>590</td>\n",
       "      <td>435</td>\n",
       "      <td>380</td>\n",
       "      <td>0.356536</td>\n",
       "      <td>405</td>\n",
       "      <td>346</td>\n",
       "      <td>1.7081</td>\n",
       "      <td>-0.1054</td>\n",
       "      <td>-1.0379</td>\n",
       "      <td>-2.0092</td>\n",
       "      <td>-1.0872</td>\n",
       "      <td>23</td>\n",
       "      <td>23</td>\n",
       "    </tr>\n",
       "    <tr>\n",
       "      <th>2</th>\n",
       "      <td>300000</td>\n",
       "      <td>m</td>\n",
       "      <td>81.20</td>\n",
       "      <td>79.90</td>\n",
       "      <td>state</td>\n",
       "      <td>B.Tech/B.E.</td>\n",
       "      <td>EC</td>\n",
       "      <td>67.67</td>\n",
       "      <td>395</td>\n",
       "      <td>565</td>\n",
       "      <td>645</td>\n",
       "      <td>0.000000</td>\n",
       "      <td>495</td>\n",
       "      <td>376</td>\n",
       "      <td>0.7027</td>\n",
       "      <td>0.7119</td>\n",
       "      <td>0.0100</td>\n",
       "      <td>-0.9950</td>\n",
       "      <td>0.6721</td>\n",
       "      <td>22</td>\n",
       "      <td>22</td>\n",
       "    </tr>\n",
       "    <tr>\n",
       "      <th>3</th>\n",
       "      <td>250000</td>\n",
       "      <td>m</td>\n",
       "      <td>60.80</td>\n",
       "      <td>66.66</td>\n",
       "      <td>cbse</td>\n",
       "      <td>MCA</td>\n",
       "      <td>CS</td>\n",
       "      <td>74.74</td>\n",
       "      <td>465</td>\n",
       "      <td>585</td>\n",
       "      <td>515</td>\n",
       "      <td>0.911395</td>\n",
       "      <td>545</td>\n",
       "      <td>500</td>\n",
       "      <td>0.8463</td>\n",
       "      <td>1.0449</td>\n",
       "      <td>-1.0659</td>\n",
       "      <td>-1.6289</td>\n",
       "      <td>0.6721</td>\n",
       "      <td>17</td>\n",
       "      <td>17</td>\n",
       "    </tr>\n",
       "    <tr>\n",
       "      <th>4</th>\n",
       "      <td>335000</td>\n",
       "      <td>m</td>\n",
       "      <td>88.00</td>\n",
       "      <td>90.00</td>\n",
       "      <td>state</td>\n",
       "      <td>B.Tech/B.E.</td>\n",
       "      <td>CS</td>\n",
       "      <td>76.00</td>\n",
       "      <td>625</td>\n",
       "      <td>555</td>\n",
       "      <td>630</td>\n",
       "      <td>0.356536</td>\n",
       "      <td>475</td>\n",
       "      <td>346</td>\n",
       "      <td>0.4155</td>\n",
       "      <td>0.8027</td>\n",
       "      <td>0.1357</td>\n",
       "      <td>-0.9950</td>\n",
       "      <td>-0.6692</td>\n",
       "      <td>23</td>\n",
       "      <td>23</td>\n",
       "    </tr>\n",
       "  </tbody>\n",
       "</table>\n",
       "</div>"
      ],
      "text/plain": [
       "   Salary Gender  10percentage  12percentage 12board       Degree  \\\n",
       "0  300000      m         89.92         87.00   state  B.Tech/B.E.   \n",
       "1  300000      m         86.08         67.50   state  B.Tech/B.E.   \n",
       "2  300000      m         81.20         79.90   state  B.Tech/B.E.   \n",
       "3  250000      m         60.80         66.66    cbse          MCA   \n",
       "4  335000      m         88.00         90.00   state  B.Tech/B.E.   \n",
       "\n",
       "  Specialization  collegeGPA  English  Logical  Quant    Domain  \\\n",
       "0             EC       76.32      560      555    620  0.000000   \n",
       "1             CS       72.98      590      435    380  0.356536   \n",
       "2             EC       67.67      395      565    645  0.000000   \n",
       "3             CS       74.74      465      585    515  0.911395   \n",
       "4             CS       76.00      625      555    630  0.356536   \n",
       "\n",
       "   ComputerProgramming  ComputerScience  conscientiousness  agreeableness  \\\n",
       "0                  645              407            -0.3027        -0.6201   \n",
       "1                  405              346             1.7081        -0.1054   \n",
       "2                  495              376             0.7027         0.7119   \n",
       "3                  545              500             0.8463         1.0449   \n",
       "4                  475              346             0.4155         0.8027   \n",
       "\n",
       "   extraversion  nueroticism  openess_to_experience  12GradAge  GradAge  \n",
       "0       -2.2954      -0.7415                -0.8608         22       22  \n",
       "1       -1.0379      -2.0092                -1.0872         23       23  \n",
       "2        0.0100      -0.9950                 0.6721         22       22  \n",
       "3       -1.0659      -1.6289                 0.6721         17       17  \n",
       "4        0.1357      -0.9950                -0.6692         23       23  "
      ]
     },
     "execution_count": 2,
     "metadata": {},
     "output_type": "execute_result"
    }
   ],
   "source": [
    "# Load Dataset\n",
    "url = \"https://raw.githubusercontent.com/deba-iitbh/datasets/main/AMEO_2015.csv\"\n",
    "df = pd.read_csv(url)\n",
    "df.head()"
   ]
  },
  {
   "cell_type": "markdown",
   "id": "8da2938b-8640-4fe3-a99f-9afbe0337b26",
   "metadata": {},
   "source": [
    "Create a bar plot of the gender category distribution"
   ]
  },
  {
   "cell_type": "code",
   "execution_count": null,
   "id": "c31be3d1-46db-48db-9232-2d0a9e174848",
   "metadata": {},
   "outputs": [],
   "source": []
  },
  {
   "cell_type": "markdown",
   "id": "85576696-9dec-4c60-a854-fb2f784c54a2",
   "metadata": {},
   "source": [
    "Draw a boxplot visualization of salary levels by gender."
   ]
  },
  {
   "cell_type": "code",
   "execution_count": null,
   "id": "7383464a-b391-4d8e-9027-4b4eb14365ca",
   "metadata": {},
   "outputs": [],
   "source": []
  },
  {
   "cell_type": "markdown",
   "id": "2d92a704-1dd2-4bf1-9166-83cd49cef406",
   "metadata": {},
   "source": [
    "create a histogram of salary data"
   ]
  },
  {
   "cell_type": "code",
   "execution_count": null,
   "id": "82cec59b-0da6-4f4d-8107-7cd6ae5948bc",
   "metadata": {},
   "outputs": [],
   "source": []
  },
  {
   "cell_type": "markdown",
   "id": "5f3001a8-a44b-433f-a740-225eaffa32b7",
   "metadata": {},
   "source": [
    "Create a stacked bar graph of salary levels categorized based on 12th board for 2 categories(male and female)"
   ]
  },
  {
   "cell_type": "code",
   "execution_count": null,
   "id": "ecb40959-4ad2-404d-ad14-45fc2a05833f",
   "metadata": {},
   "outputs": [],
   "source": []
  },
  {
   "cell_type": "markdown",
   "id": "be66971d-187a-4341-a024-ad8ea03773bf",
   "metadata": {},
   "source": [
    "Create a scatterplot show the diustribution of logical skills vs salary"
   ]
  },
  {
   "cell_type": "code",
   "execution_count": null,
   "id": "276bee48-e671-4fab-8b5e-41a0c28dbef6",
   "metadata": {},
   "outputs": [],
   "source": []
  },
  {
   "cell_type": "markdown",
   "id": "9ecf165b-1456-4f73-a171-fd6058af9fda",
   "metadata": {},
   "source": [
    "creating new columns -   \n",
    "Average score - Average score of English, Logical, Quant  \n",
    "Academic Performace - Sum of all the scores in 10, 12, college"
   ]
  },
  {
   "cell_type": "code",
   "execution_count": null,
   "id": "b9f8b06e-5fa3-4fae-af56-165d5006bd9c",
   "metadata": {},
   "outputs": [],
   "source": []
  },
  {
   "cell_type": "markdown",
   "id": "56df021e-ea42-4e6e-9cbe-637fc3809d80",
   "metadata": {
    "tags": []
   },
   "source": [
    "Show the co-relation between salary and Average score (if any)"
   ]
  },
  {
   "cell_type": "code",
   "execution_count": null,
   "id": "c160b6c5-702f-4bb7-907c-23a2385475e5",
   "metadata": {},
   "outputs": [],
   "source": []
  },
  {
   "cell_type": "markdown",
   "id": "e957628b-4ef1-4e16-af92-6bdef39c878e",
   "metadata": {},
   "source": [
    "computer programming skills is very important in recent years,   \n",
    "show the effect of computer programming skills in salary using a plot"
   ]
  },
  {
   "cell_type": "code",
   "execution_count": null,
   "id": "873bdebf-1c58-4d16-a01a-eeb8c485e5e4",
   "metadata": {},
   "outputs": [],
   "source": []
  },
  {
   "cell_type": "markdown",
   "id": "5e231c3b-cac8-4553-a57a-b430616b767b",
   "metadata": {},
   "source": [
    "Draw a boxplot visualization of salary and specialization(EC, CS, ME, EL, Other)"
   ]
  },
  {
   "cell_type": "code",
   "execution_count": null,
   "id": "839bf73f-cc81-4c9f-936e-ba1a8fa5d512",
   "metadata": {},
   "outputs": [],
   "source": []
  },
  {
   "cell_type": "markdown",
   "id": "dd658b73-7254-47f7-ab90-c9176852749d",
   "metadata": {
    "tags": []
   },
   "source": [
    "# Unsupervised Analysis of MNIST"
   ]
  },
  {
   "cell_type": "markdown",
   "id": "virtual-companion",
   "metadata": {
    "papermill": {
     "duration": 0.031829,
     "end_time": "2021-03-19T19:11:37.770032",
     "exception": false,
     "start_time": "2021-03-19T19:11:37.738203",
     "status": "completed"
    },
    "tags": []
   },
   "source": [
    "## Why this Dataset?\n",
    "Let's be frank up-front. MNIST is the most classical example of a machine learning datatset. One which has been explored quite a number of times by many people and We do not have any novelty to add to the solution. **Unless we try to use an etirely different approach to solve the problem.** Much of the existing work done on this dataset has been using some form of *Supervised Learning*, may it be Linear models or Decision Trees or GBTs or CNNs.  \n",
    "What we are going to do through this notebook is to find an unique approach to solve this problem through an ***Unsupervised Algorithm***. Sounds novel now? 😎\n",
    "\n",
    "## Problem Statement\n",
    "Our goal is to correctly identify digits from a dataset of tens of thousands of handwritten images.  \n",
    "The scoring metric for this competition is also a classical one for multi-class classification: **Accuracy**.  \n",
    "\n",
    "### Data Description:-\n",
    "1. The data files train.csv and test.csv contain gray-scale images of hand-drawn digits, from zero through nine.\n",
    "2. Each image is 28 pixels in height and 28 pixels in width, for a total of 784 pixels in total. Each pixel has a single pixel-value associated with it, indicating the lightness or darkness of that pixel, with higher numbers meaning darker. This pixel-value is an integer between 0 and 255, inclusive.\n",
    "\n",
    "### Expected Outcome:-\n",
    "* Correctly identify the digit form the pixel values of an grayscale image.\n",
    "\n",
    "## Imports\n",
    "Keeping these above points in mind, let's start by importing some basic libraries that we require."
   ]
  },
  {
   "cell_type": "code",
   "execution_count": 3,
   "id": "subject-commonwealth",
   "metadata": {
    "_cell_guid": "b1076dfc-b9ad-4769-8c92-a6c4dae69d19",
    "_uuid": "8f2839f25d086af736a60e9eeb907d3b93b6e0e5",
    "papermill": {
     "duration": 5.347524,
     "end_time": "2021-03-19T19:11:43.148792",
     "exception": false,
     "start_time": "2021-03-19T19:11:37.801268",
     "status": "completed"
    },
    "tags": []
   },
   "outputs": [],
   "source": [
    "# Asthetics\n",
    "import warnings\n",
    "warnings.filterwarnings('ignore', category=DeprecationWarning)\n",
    "warnings.filterwarnings('ignore', category=FutureWarning)\n",
    "\n",
    "# General\n",
    "import pandas as pd\n",
    "pd.set_option('display.max_columns', None)\n",
    "import numpy as np\n",
    "import os\n",
    "import time\n",
    "import random\n",
    "from scipy.stats import mode\n",
    "\n",
    "# Datasets\n",
    "from sklearn.datasets import load_digits\n",
    "from sklearn.model_selection import train_test_split\n",
    "\n",
    "# Visialisation\n",
    "import matplotlib.pyplot as plt\n",
    "from matplotlib import offsetbox\n",
    "%matplotlib inline\n",
    "import seaborn as sns\n",
    "sns.set(style=\"whitegrid\")\n",
    "import plotly.express as px\n",
    "\n",
    "# Dimensionallity Reduction\n",
    "from sklearn.decomposition import PCA\n",
    "\n",
    "# clustering\n",
    "# Flat\n",
    "from sklearn.cluster import KMeans\n",
    "\n",
    "# Hierarchical\n",
    "from sklearn.cluster import AgglomerativeClustering\n",
    "\n",
    "#Metrics\n",
    "from sklearn import metrics\n",
    "from sklearn.metrics import confusion_matrix, classification_report\n",
    "\n",
    "# extra (if you need)"
   ]
  },
  {
   "cell_type": "code",
   "execution_count": 4,
   "id": "9d3ce71a-bf5b-4df6-9988-cb0218e2d450",
   "metadata": {},
   "outputs": [
    {
     "name": "stdout",
     "output_type": "stream",
     "text": [
      "Shape of X_train-(1617, 64)\n",
      "Shape of X_test-(180, 64)\n"
     ]
    }
   ],
   "source": [
    "# Load dataset\n",
    "mnist = load_digits()\n",
    "X, y, labels = mnist['data'], mnist['target'], mnist[\"target_names\"]\n",
    "X_train, X_test, y_train, y_test = train_test_split(X, y, stratify=y, test_size=0.1)\n",
    "print(f\"Shape of X_train-{X_train.shape}\\nShape of X_test-{X_test.shape}\")"
   ]
  },
  {
   "cell_type": "code",
   "execution_count": 5,
   "id": "afb2a9ea-c6f9-4c3b-a74d-83d0cb4f8356",
   "metadata": {},
   "outputs": [
    {
     "data": {
      "text/plain": [
       "(array([[ 0.,  0.,  6., ...,  0.,  0.,  0.],\n",
       "        [ 0.,  0.,  3., ..., 14.,  6.,  0.],\n",
       "        [ 0.,  0.,  0., ...,  9.,  0.,  0.],\n",
       "        ...,\n",
       "        [ 0.,  2., 11., ..., 13., 16.,  1.],\n",
       "        [ 0.,  0.,  5., ...,  0.,  0.,  0.],\n",
       "        [ 0.,  0.,  0., ..., 14.,  2.,  0.]]),\n",
       " array([9, 9, 4, ..., 2, 7, 6]),\n",
       " array([0, 1, 2, 3, 4, 5, 6, 7, 8, 9]))"
      ]
     },
     "execution_count": 5,
     "metadata": {},
     "output_type": "execute_result"
    }
   ],
   "source": [
    "X_train, y_train, labels"
   ]
  },
  {
   "cell_type": "markdown",
   "id": "given-tokyo",
   "metadata": {
    "papermill": {
     "duration": 0.03145,
     "end_time": "2021-03-19T19:11:50.135786",
     "exception": false,
     "start_time": "2021-03-19T19:11:50.104336",
     "status": "completed"
    },
    "tags": []
   },
   "source": [
    "## EDA"
   ]
  },
  {
   "cell_type": "code",
   "execution_count": 6,
   "id": "pointed-pizza",
   "metadata": {
    "papermill": {
     "duration": 0.737725,
     "end_time": "2021-03-19T19:11:51.107166",
     "exception": false,
     "start_time": "2021-03-19T19:11:50.369441",
     "status": "completed"
    },
    "tags": []
   },
   "outputs": [],
   "source": [
    "# Plot 10 random images from the dataset"
   ]
  },
  {
   "cell_type": "markdown",
   "id": "gothic-supplier",
   "metadata": {
    "papermill": {
     "duration": 0.03191,
     "end_time": "2021-03-19T19:11:51.171247",
     "exception": false,
     "start_time": "2021-03-19T19:11:51.139337",
     "status": "completed"
    },
    "tags": []
   },
   "source": [
    "Great! Let's see what is the class balance in this particular ptoblem set..."
   ]
  },
  {
   "cell_type": "code",
   "execution_count": 7,
   "id": "irish-contribution",
   "metadata": {
    "papermill": {
     "duration": 0.286649,
     "end_time": "2021-03-19T19:11:51.490101",
     "exception": false,
     "start_time": "2021-03-19T19:11:51.203452",
     "status": "completed"
    },
    "tags": []
   },
   "outputs": [],
   "source": [
    "# Check the class imbalance using bar plot"
   ]
  },
  {
   "cell_type": "markdown",
   "id": "floating-event",
   "metadata": {
    "papermill": {
     "duration": 0.033647,
     "end_time": "2021-03-19T19:11:51.558023",
     "exception": false,
     "start_time": "2021-03-19T19:11:51.524376",
     "status": "completed"
    },
    "tags": []
   },
   "source": [
    "**Are all the class balanced? what do you think?**"
   ]
  },
  {
   "cell_type": "markdown",
   "id": "f1154002-4d84-4b55-baf2-add9a6629600",
   "metadata": {
    "papermill": {
     "duration": 0.04991,
     "end_time": "2021-03-19T19:12:48.128834",
     "exception": false,
     "start_time": "2021-03-19T19:12:48.078924",
     "status": "completed"
    },
    "tags": []
   },
   "source": [
    "## PCA\n",
    "\n",
    "PCA is a dimensionality reduction technique. Let's see how those clusters look after PCA...\n"
   ]
  },
  {
   "cell_type": "markdown",
   "id": "219f78bb-09cf-4355-b0eb-cbc3a5b12bb1",
   "metadata": {},
   "source": [
    "### 2D PCA"
   ]
  },
  {
   "cell_type": "code",
   "execution_count": 8,
   "id": "impossible-richards",
   "metadata": {
    "papermill": {
     "duration": 2.785533,
     "end_time": "2021-03-19T19:12:50.965086",
     "exception": false,
     "start_time": "2021-03-19T19:12:48.179553",
     "status": "completed"
    },
    "tags": []
   },
   "outputs": [],
   "source": [
    "# Apply PCA with 2 components to train data and visualize the points using scatterplot(using both Seaborn and Plotly)"
   ]
  },
  {
   "cell_type": "markdown",
   "id": "420c2688-fca6-4c46-931f-d38e1e2f667a",
   "metadata": {},
   "source": [
    "### 3D PCA"
   ]
  },
  {
   "cell_type": "code",
   "execution_count": 9,
   "id": "ee7fdf20-53aa-4fa4-8660-5f6a31f6d003",
   "metadata": {},
   "outputs": [],
   "source": [
    "# Apply PCA with 3 components to train data and visualize the points using scatterplot(using Plotly)"
   ]
  },
  {
   "cell_type": "markdown",
   "id": "pressing-adult",
   "metadata": {
    "papermill": {
     "duration": 0.111172,
     "end_time": "2021-03-19T19:18:12.694456",
     "exception": false,
     "start_time": "2021-03-19T19:18:12.583284",
     "status": "completed"
    },
    "tags": []
   },
   "source": [
    "Now that we have seen various embeddings of MNIST clustered on 2 and 3 axes.\n",
    "Write 5 inferences from these plots.\n",
    "\n",
    "1.  \n",
    "2.  \n",
    "3.  \n",
    "4.  \n",
    "5.  "
   ]
  },
  {
   "cell_type": "markdown",
   "id": "08d33afc-fde6-46bc-9884-ef9cf3e9a1f8",
   "metadata": {
    "papermill": {
     "duration": 0.04991,
     "end_time": "2021-03-19T19:12:48.128834",
     "exception": false,
     "start_time": "2021-03-19T19:12:48.078924",
     "status": "completed"
    },
    "tags": []
   },
   "source": [
    "## T-SNE"
   ]
  },
  {
   "cell_type": "markdown",
   "id": "1b60b72e-c923-4f1e-a165-b3aeddf5988b",
   "metadata": {},
   "source": [
    "### 2D T-SNE"
   ]
  },
  {
   "cell_type": "code",
   "execution_count": 10,
   "id": "5addebbe-e572-44d0-9fb7-53539fcf6651",
   "metadata": {
    "papermill": {
     "duration": 2.785533,
     "end_time": "2021-03-19T19:12:50.965086",
     "exception": false,
     "start_time": "2021-03-19T19:12:48.179553",
     "status": "completed"
    },
    "tags": []
   },
   "outputs": [],
   "source": [
    "# Apply T-SNE with 2 components to train data and visualize the points using scatterplot(using both Seaborn and Plotly)"
   ]
  },
  {
   "cell_type": "markdown",
   "id": "2693378c-121a-41d0-95e7-6a51e357dbff",
   "metadata": {},
   "source": [
    "### 3D T-SNE"
   ]
  },
  {
   "cell_type": "code",
   "execution_count": 11,
   "id": "1cfe4b00-489c-481d-ba7b-74c4814c4392",
   "metadata": {},
   "outputs": [],
   "source": [
    "# Apply T-SNE with 3 components to train data and visualize the points using scatterplot(using Plotly)"
   ]
  },
  {
   "cell_type": "markdown",
   "id": "8979e570-da6c-4ddf-a5aa-d1e502f1c30a",
   "metadata": {
    "papermill": {
     "duration": 0.111172,
     "end_time": "2021-03-19T19:18:12.694456",
     "exception": false,
     "start_time": "2021-03-19T19:18:12.583284",
     "status": "completed"
    },
    "tags": []
   },
   "source": [
    "Now that we have seen various embeddings of MNIST clustered on 2 and 3 axes.\n",
    "Write 5 inferences from these plots.\n",
    "\n",
    "1.  \n",
    "2.  \n",
    "3.  \n",
    "4.  \n",
    "5.  "
   ]
  },
  {
   "cell_type": "markdown",
   "id": "19cb4c09-a2ca-4bb5-865e-5095cb463059",
   "metadata": {},
   "source": [
    "Another interesting aspect to see is to track what kind of variations are there within a single class... To visualize this better let's create an helpfer function hat will output image thumbnails at the locations of the projections."
   ]
  },
  {
   "cell_type": "code",
   "execution_count": 12,
   "id": "aboriginal-cricket",
   "metadata": {
    "papermill": {
     "duration": 0.121001,
     "end_time": "2021-03-19T19:18:12.925640",
     "exception": false,
     "start_time": "2021-03-19T19:18:12.804639",
     "status": "completed"
    },
    "tags": []
   },
   "outputs": [],
   "source": [
    "def plot_components(data, model, images=None, ax=None, thumb_frac=0.05, cmap='gray'):\n",
    "    ax = ax or plt.gca()\n",
    "    proj = model.fit_transform(data)\n",
    "    ax.plot(proj[:, 0], proj[:, 1], '.k')\n",
    "    if images is not None:\n",
    "        shown_images = np.array([2 * proj.max(0)])\n",
    "        for i in range(data.shape[0]):\n",
    "            shown_images = np.vstack([shown_images, proj[i]])\n",
    "            imagebox = offsetbox.AnnotationBbox(\n",
    "                offsetbox.OffsetImage(images[i], cmap=cmap),\n",
    "                proj[i])\n",
    "            ax.add_artist(imagebox)\n",
    "    plt.show()"
   ]
  },
  {
   "cell_type": "markdown",
   "id": "august-elizabeth",
   "metadata": {
    "papermill": {
     "duration": 0.110701,
     "end_time": "2021-03-19T19:18:13.148554",
     "exception": false,
     "start_time": "2021-03-19T19:18:13.037853",
     "status": "completed"
    },
    "tags": []
   },
   "source": [
    "Let's plot all of the ones and see how varied are they from one another..."
   ]
  },
  {
   "cell_type": "code",
   "execution_count": 13,
   "id": "democratic-eleven",
   "metadata": {
    "papermill": {
     "duration": 5.755966,
     "end_time": "2021-03-19T19:18:19.015210",
     "exception": false,
     "start_time": "2021-03-19T19:18:13.259244",
     "status": "completed"
    },
    "tags": []
   },
   "outputs": [],
   "source": [
    "# Use the abhove helper function to visualize the variation with class of digit '1' and '0'"
   ]
  },
  {
   "cell_type": "markdown",
   "id": "little-raising",
   "metadata": {
    "papermill": {
     "duration": 0.109489,
     "end_time": "2021-03-19T19:18:19.237865",
     "exception": false,
     "start_time": "2021-03-19T19:18:19.128376",
     "status": "completed"
    },
    "tags": []
   },
   "source": [
    "The plots are Fascinating isn't it!  \n",
    "As you can see this gives un an idea of the variety of Ones we have in out datatset.\n",
    "\n",
    "Write some inference from the above plot.\n",
    "\n",
    "1.  \n",
    "2.  \n",
    "3.  \n",
    "4.  "
   ]
  },
  {
   "cell_type": "markdown",
   "id": "stable-exposure",
   "metadata": {
    "papermill": {
     "duration": 0.113416,
     "end_time": "2021-03-19T19:18:24.699096",
     "exception": false,
     "start_time": "2021-03-19T19:18:24.585680",
     "status": "completed"
    },
    "tags": []
   },
   "source": [
    "## Clustering"
   ]
  },
  {
   "cell_type": "markdown",
   "id": "45357199-416f-49b5-b469-3c0c71abdd0a",
   "metadata": {
    "papermill": {
     "duration": 1.571466,
     "end_time": "2021-03-19T20:19:59.538239",
     "exception": false,
     "start_time": "2021-03-19T20:19:57.966773",
     "status": "completed"
    },
    "tags": []
   },
   "source": [
    "Apply K-Means clustering on the data and visualize it.\n",
    "\n",
    "Try to plot the Within Cluster Squered Loss(WCSS) for the clustering as well."
   ]
  },
  {
   "cell_type": "code",
   "execution_count": null,
   "id": "f5d242cc-d502-41ea-abb8-a2355e75d4b3",
   "metadata": {},
   "outputs": [],
   "source": []
  },
  {
   "cell_type": "markdown",
   "id": "74646158-dda9-4bf5-9a08-83db3e6aa5d6",
   "metadata": {
    "tags": []
   },
   "source": [
    "Apply Hierarchical Clustering and visualize it using dendogram.\n",
    "\n",
    "what do you think will be a good threshold for cutting the dendogram and make clusters?  \n",
    "Hint: Do some experiments."
   ]
  },
  {
   "cell_type": "code",
   "execution_count": null,
   "id": "4d93ad06-907e-4d13-bd14-ddb3abfe7e48",
   "metadata": {},
   "outputs": [],
   "source": []
  }
 ],
 "metadata": {
  "kernelspec": {
   "display_name": "Python 3 (ipykernel)",
   "language": "python",
   "name": "python3"
  },
  "language_info": {
   "codemirror_mode": {
    "name": "ipython",
    "version": 3
   },
   "file_extension": ".py",
   "mimetype": "text/x-python",
   "name": "python",
   "nbconvert_exporter": "python",
   "pygments_lexer": "ipython3",
   "version": "3.9.12"
  },
  "papermill": {
   "default_parameters": {},
   "duration": 4113.656037,
   "end_time": "2021-03-19T20:20:04.563116",
   "environment_variables": {},
   "exception": null,
   "input_path": "__notebook__.ipynb",
   "output_path": "__notebook__.ipynb",
   "parameters": {},
   "start_time": "2021-03-19T19:11:30.907079",
   "version": "2.3.2"
  },
  "toc-autonumbering": true
 },
 "nbformat": 4,
 "nbformat_minor": 5
}

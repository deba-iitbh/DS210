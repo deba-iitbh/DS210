{
 "cells": [
  {
   "cell_type": "markdown",
   "metadata": {
    "id": "h7F5ZaH-HEtv"
   },
   "source": [
    "<center>\n",
    "<h1>Time Series Analysis</h1>\n",
    "</center>"
   ]
  },
  {
   "cell_type": "code",
   "execution_count": null,
   "metadata": {
    "id": "IWLR2unWG24D"
   },
   "outputs": [],
   "source": [
    "import os\n",
    "import pandas as pd\n",
    "import numpy as np\n",
    "import matplotlib.pyplot as plt"
   ]
  },
  {
   "cell_type": "code",
   "execution_count": null,
   "metadata": {
    "id": "MxZjIKXRIQSu"
   },
   "outputs": [],
   "source": [
    "plt.rcParams[\"figure.figsize\"] = (12,4)\n",
    "plt.rcParams[\"axes.grid\"] = True\n",
    "plt.rcParams[\"font.size\"] = 14"
   ]
  },
  {
   "cell_type": "code",
   "execution_count": null,
   "metadata": {
    "id": "ImOtYyAuG24F"
   },
   "outputs": [],
   "source": [
    "dataset = pd.read_csv('https://raw.githubusercontent.com/deba-iitbh/datasets/main/AirPassengers.csv')\n",
    "dataset['Month'] = pd.to_datetime(dataset['Month'])\n",
    "indexedDataset = dataset.set_index('Month')"
   ]
  },
  {
   "cell_type": "markdown",
   "metadata": {
    "id": "odYuz8ueI5Pu"
   },
   "source": [
    "## Exploring the Dataset"
   ]
  },
  {
   "cell_type": "code",
   "execution_count": null,
   "metadata": {
    "colab": {
     "base_uri": "https://localhost:8080/",
     "height": 304
    },
    "id": "R9YWCldnG24G",
    "outputId": "f8b75921-d4e7-4773-c69f-49bb6d942910"
   },
   "outputs": [],
   "source": [
    "## plot graph\n",
    "plt.xlabel(\"Date\")\n",
    "plt.ylabel(\"Number of Air Passangers\")\n",
    "plt.plot(indexedDataset)"
   ]
  },
  {
   "cell_type": "code",
   "execution_count": null,
   "metadata": {
    "colab": {
     "base_uri": "https://localhost:8080/"
    },
    "id": "zl38sAMpG24H",
    "outputId": "736eb387-3b20-4f33-a459-f71616cd3da8"
   },
   "outputs": [],
   "source": [
    "# Determining the rolling stattistics\n",
    "rollmean = indexedDataset.rolling(window = 12).mean()\n",
    "rollstd = indexedDataset.rolling(window = 12).std()\n",
    "print(rollmean, rollstd)"
   ]
  },
  {
   "cell_type": "markdown",
   "metadata": {
    "id": "lFWRwQ__J109"
   },
   "source": [
    "## Checking Stationarity with rolling mean and standard Deviation"
   ]
  },
  {
   "cell_type": "code",
   "execution_count": null,
   "metadata": {
    "colab": {
     "base_uri": "https://localhost:8080/",
     "height": 289
    },
    "id": "cpDOBh8KJ67c",
    "outputId": "85b9eb96-0649-45f3-c9d4-49526bbe9be9"
   },
   "outputs": [],
   "source": [
    "# Plot rolling statistics\n",
    "orig = plt.plot(indexedDataset, color ='blue', label = 'Original')\n",
    "mean = plt.plot(rollmean, color ='red', label = 'Rolling Mean')\n",
    "std = plt.plot(rollstd, color ='green', label = 'Rolling Std')\n",
    "plt.legend(loc = 'best')\n",
    "plt.title('Rolling Mean & Standard Deviation')\n",
    "plt.show(block = False)"
   ]
  },
  {
   "cell_type": "markdown",
   "metadata": {
    "id": "LM0Fzgn3Kt0S"
   },
   "source": [
    "## Checking Stationarity with Augmented Dickey Fuller Statistical Test"
   ]
  },
  {
   "cell_type": "code",
   "execution_count": null,
   "metadata": {
    "colab": {
     "base_uri": "https://localhost:8080/"
    },
    "id": "a7KQ3v7GG24I",
    "outputId": "b6d00e13-fb00-4514-bfe3-7fc5f305e3c8"
   },
   "outputs": [],
   "source": [
    "from statsmodels.tsa.stattools import adfuller\n",
    "\n",
    "# Perform Dickey-Fuller Test\n",
    "print(\"Results of Diceky-Fuller Test:\")\n",
    "dftest = adfuller(indexedDataset['#Passengers'], autolag = 'AIC')\n",
    "dfoutput = pd.Series(dftest[:4], index= [\"Test Statistic\", \"p-value\", \"#Lags Used\", \"Number of Observations Used\"])\n",
    "\n",
    "for key, value in dftest[4].items():\n",
    "  dfoutput[f'Critical Value ({key})'] = value\n",
    "\n",
    "print(dfoutput)"
   ]
  },
  {
   "cell_type": "markdown",
   "metadata": {
    "id": "SdkcnaaRMmym"
   },
   "source": [
    "## Wrapping Visual and Statistical tools in a single function"
   ]
  },
  {
   "cell_type": "code",
   "execution_count": null,
   "metadata": {
    "id": "K_FHEFjvG24I"
   },
   "outputs": [],
   "source": [
    "def test_stationarity(timeseries):\n",
    "  # Determining the rolling stattistics\n",
    "  movingAverage = timeseries.rolling(window = 12).mean()\n",
    "  movingSTD = timeseries.rolling(window = 12).std()\n",
    "\n",
    "  # Plot rolling statistics\n",
    "  orig = plt.plot(timeseries, color ='blue', label = 'Original')\n",
    "  mean = plt.plot(movingAverage, color ='red', label = 'Rolling Mean')\n",
    "  std = plt.plot(movingSTD, color ='green', label = 'Rolling Std')\n",
    "  plt.legend(loc = 'best')\n",
    "  plt.title('Rolling Mean & Standard Deviation')\n",
    "  plt.show(block = False)\n",
    "\n",
    "  # Perform Dickey-Fuller Test\n",
    "  print(\"Results of Diceky-Fuller Test:\")\n",
    "  dftest = adfuller(timeseries['#Passengers'], autolag = 'AIC')\n",
    "  dfoutput = pd.Series(dftest[:4], index= [\"Test Statistic\", \"p-value\", \"#Lags Used\", \"Number of Observations Used\"])\n",
    "\n",
    "  for key, value in dftest[4].items():\n",
    "    dfoutput[f'Critical Value ({key})'] = value\n",
    "\n",
    "  print(dfoutput)"
   ]
  },
  {
   "cell_type": "code",
   "execution_count": null,
   "metadata": {
    "colab": {
     "base_uri": "https://localhost:8080/",
     "height": 445
    },
    "id": "mwdue2WLNVOY",
    "outputId": "861039c8-e0dc-4eb4-868b-e228b597b905"
   },
   "outputs": [],
   "source": [
    "test_stationarity(indexedDataset)"
   ]
  },
  {
   "cell_type": "markdown",
   "metadata": {
    "id": "10O-jKEGNhi6"
   },
   "source": [
    "## Converting Non-Stationary data to Stationary dataset\n",
    "- Log\n",
    "- Subtracting Simple rolling Average\n",
    "- Subtracting Exponential rolling Average\n",
    "- Subtracting previous value(Most Popular) with shift()\n",
    "- Seasonal decomposition\n",
    "- Combination of the above"
   ]
  },
  {
   "cell_type": "markdown",
   "metadata": {
    "id": "UYBIbmyHN4yr"
   },
   "source": [
    "### 1. Log"
   ]
  },
  {
   "cell_type": "code",
   "execution_count": null,
   "metadata": {
    "colab": {
     "base_uri": "https://localhost:8080/",
     "height": 242
    },
    "id": "0hnSh7ouOGG6",
    "outputId": "7eba9575-82d2-4e73-e6c5-8e4ebde302ac"
   },
   "outputs": [],
   "source": [
    "#Estimating trend\n",
    "indexedDataset_logscale = np.log(indexedDataset)\n",
    "plt.plot(indexedDataset_logscale)\n",
    "plt.show()"
   ]
  },
  {
   "cell_type": "code",
   "execution_count": null,
   "metadata": {
    "colab": {
     "base_uri": "https://localhost:8080/",
     "height": 418
    },
    "id": "XLoFPPXyOWrQ",
    "outputId": "45b115b7-30ae-460d-f19a-c99b69f1cde1"
   },
   "outputs": [],
   "source": [
    "test_stationarity(indexedDataset_logscale)"
   ]
  },
  {
   "cell_type": "markdown",
   "metadata": {
    "id": "7ufBY64mN_ew"
   },
   "source": [
    "### 2. Differencing Simple Moving Average"
   ]
  },
  {
   "cell_type": "code",
   "execution_count": null,
   "metadata": {
    "colab": {
     "base_uri": "https://localhost:8080/",
     "height": 834
    },
    "id": "x0U-vWZAOfdQ",
    "outputId": "9d2e7302-7912-43f6-952e-fc90e89c6954"
   },
   "outputs": [],
   "source": [
    "movingAverage = indexedDataset_logscale.rolling(window = 12).mean()\n",
    "datasetLogScalMinusMovingAverage = indexedDataset_logscale - movingAverage\n",
    "display(datasetLogScalMinusMovingAverage.head(12))\n",
    "\n",
    "# Remove nan values\n",
    "datasetLogScalMinusMovingAverage.dropna(inplace= True)\n",
    "datasetLogScalMinusMovingAverage.head(10)"
   ]
  },
  {
   "cell_type": "code",
   "execution_count": null,
   "metadata": {
    "colab": {
     "base_uri": "https://localhost:8080/",
     "height": 409
    },
    "id": "A_-tx3F_SBmi",
    "outputId": "93c46a49-d8fb-4d35-fcd9-93fc19ff06cb"
   },
   "outputs": [],
   "source": [
    "test_stationarity(datasetLogScalMinusMovingAverage)"
   ]
  },
  {
   "cell_type": "markdown",
   "metadata": {
    "id": "Q6jsdPl5OBlq"
   },
   "source": [
    "### 3. Differencing Exponential Moving Average"
   ]
  },
  {
   "cell_type": "code",
   "execution_count": null,
   "metadata": {
    "colab": {
     "base_uri": "https://localhost:8080/",
     "height": 242
    },
    "id": "iEs3hzn7SIFj",
    "outputId": "c63220e9-cd64-427e-9f9d-8e1aa32289f0"
   },
   "outputs": [],
   "source": [
    "exponentialDecayWeightedAverage = indexedDataset_logscale.ewm(halflife = 12, min_periods = 0, adjust = 0).mean()\n",
    "plt.plot(indexedDataset_logscale)\n",
    "plt.plot(exponentialDecayWeightedAverage, color = 'red')\n",
    "plt.show()"
   ]
  },
  {
   "cell_type": "code",
   "execution_count": null,
   "metadata": {
    "colab": {
     "base_uri": "https://localhost:8080/",
     "height": 409
    },
    "id": "D2drRUThS3UR",
    "outputId": "f95b4f30-9b11-404f-9534-abbfd15050d9"
   },
   "outputs": [],
   "source": [
    "datasetLogScaleMovingExponentialDecayAverage = indexedDataset_logscale - exponentialDecayWeightedAverage\n",
    "test_stationarity(datasetLogScaleMovingExponentialDecayAverage)"
   ]
  },
  {
   "cell_type": "markdown",
   "metadata": {
    "id": "p0vtth9DTDol"
   },
   "source": [
    "### 4. Differencing Previous Value"
   ]
  },
  {
   "cell_type": "code",
   "execution_count": null,
   "metadata": {
    "colab": {
     "base_uri": "https://localhost:8080/",
     "height": 236
    },
    "id": "CNAUn0-aTGlC",
    "outputId": "3c74b03c-97b6-44d8-9fa7-6f52e0351337"
   },
   "outputs": [],
   "source": [
    "datasetLogDiffShifting = indexedDataset_logscale - indexedDataset_logscale.shift()\n",
    "plt.plot(datasetLogDiffShifting)\n",
    "plt.show()"
   ]
  },
  {
   "cell_type": "code",
   "execution_count": null,
   "metadata": {
    "colab": {
     "base_uri": "https://localhost:8080/",
     "height": 409
    },
    "id": "Z_Uywz-fTWsm",
    "outputId": "fb9a427e-f8a6-4117-99d3-91dca08b123a"
   },
   "outputs": [],
   "source": [
    "datasetLogDiffShifting.dropna(inplace = True)\n",
    "test_stationarity(datasetLogDiffShifting)"
   ]
  },
  {
   "cell_type": "markdown",
   "metadata": {
    "id": "ehoK6yYoTszc"
   },
   "source": [
    "### 5. Seasonal Decomposition"
   ]
  },
  {
   "cell_type": "code",
   "execution_count": null,
   "metadata": {
    "colab": {
     "base_uri": "https://localhost:8080/",
     "height": 533
    },
    "id": "sXB7v3CdT42v",
    "outputId": "dd7c4264-cb3a-4b4c-a554-fe43661a6a66"
   },
   "outputs": [],
   "source": [
    "from statsmodels.tsa.seasonal import seasonal_decompose\n",
    "decomposition = seasonal_decompose(indexedDataset_logscale)\n",
    "\n",
    "trend = decomposition.trend\n",
    "seasonal = decomposition.seasonal\n",
    "residual = decomposition.resid\n",
    "\n",
    "plt.figure(figsize = (12, 7))\n",
    "plt.subplot(411)\n",
    "plt.plot(indexedDataset_logscale, label = \"original\")\n",
    "plt.legend()\n",
    "\n",
    "plt.subplot(412)\n",
    "plt.plot(trend, label = \"Trend\")\n",
    "plt.legend()\n",
    "\n",
    "\n",
    "plt.subplot(413)\n",
    "plt.plot(seasonal, label = \"seasonal\")\n",
    "plt.legend()\n",
    "\n",
    "\n",
    "plt.subplot(414)\n",
    "plt.plot(residual, label = \"Residuals\")\n",
    "plt.legend()\n",
    "\n",
    "\n",
    "decomposedLogData = residual\n",
    "decomposedLogData.dropna(inplace = True)\n",
    "test_stationarity(decomposedLogData.to_frame(name = \"#Passengers\"))"
   ]
  },
  {
   "cell_type": "code",
   "execution_count": null,
   "metadata": {
    "colab": {
     "base_uri": "https://localhost:8080/"
    },
    "id": "nAAuEmZEcqWS",
    "outputId": "dd601694-5e63-4222-9f30-03b933d96e8a"
   },
   "outputs": [],
   "source": [
    "type(decomposedLogData)"
   ]
  },
  {
   "cell_type": "markdown",
   "metadata": {
    "id": "BfASL2ppUMgL"
   },
   "source": [
    "## ARMA modelling\n",
    "\n",
    "### Auto Regressive Model\n",
    "\n",
    "AR(1)\n",
    "$$\n",
    "P(today) = Mean + Coeff * P(yesterdat) + noise\n",
    "$$\n",
    "$$\n",
    "P(t) = \\mu + \\gamma_1 * P(t-1) + \\epsilon\n",
    "$$\n",
    "- If gamma_1 = 0 model is Mean plus noise\n",
    "\n",
    "AR(2)\n",
    "$$\n",
    "P(t) = \\mu + \\gamma_1 * P(t-1) + \\gamma_2 * P(t-2) \\epsilon\n",
    "$$\n",
    "\n",
    "### Moving Average MA Model\n",
    "MA(1) Model\n",
    "$$\n",
    "P(t) = \\mu + \\theta1 * \\epsilon(t-1) + \\epsilon(t)\n",
    "$$\n",
    "\n",
    "## ARMA Model\n",
    "ARMA(1,1)\n",
    "$$\n",
    "P(t) = \\mu + \\gamma_1 * P(t-1) + \\theta_1 * \\epsilon(t-1) + \\epsilon(t)\n",
    "$$\n",
    "\n",
    "ARMA(1,2)\n",
    "$$\n",
    "P(t) = \\mu + \\gamma_1 * P(t-1) + \\theta_1 * \\epsilon(t-1) + \\theta_2 * \\epsilon(t-2) + \\epsilon(t)\n",
    "$$\n",
    "\n",
    "ARMA(2,1)\n",
    "$$\n",
    "P(t) = \\mu + \\gamma_1 * P(t-1) + \\gamma_1 * P(t-2) + \\theta_1 * \\epsilon(t-1) + \\epsilon(t)\n",
    "$$\n",
    "\n",
    "ARMA(2,2)\n",
    "$$\n",
    "P(t) = \\mu + \\gamma_1 * P(t-1) + \\gamma_1 * P(t-2) + \\theta_1 * \\epsilon(t-1) + \\theta_2 * \\epsilon(t-2) + \\epsilon(t)\n",
    "$$"
   ]
  },
  {
   "cell_type": "markdown",
   "metadata": {
    "id": "T5JgssmSYyZZ"
   },
   "source": [
    "## Finding Lags of AR and MA models"
   ]
  },
  {
   "cell_type": "code",
   "execution_count": null,
   "metadata": {
    "colab": {
     "base_uri": "https://localhost:8080/",
     "height": 324
    },
    "id": "0OsPsvlJY12M",
    "outputId": "bb553186-1c76-4349-edd7-32cff60e27ac"
   },
   "outputs": [],
   "source": [
    "#ACF and PACF plots:\n",
    "from statsmodels.tsa.stattools import acf, pacf\n",
    "\n",
    "lag_acf = acf(datasetLogDiffShifting, nlags=20)\n",
    "lag_pacf = pacf(datasetLogDiffShifting, nlags=20, method='ols')\n",
    "\n",
    "#Plot ACF:\n",
    "plt.subplot(121)\n",
    "plt.plot(lag_acf)\n",
    "plt.axhline(y=0, linestyle = '--', color=\"gray\")\n",
    "plt.axhline(y=-1.96/np.sqrt(len(datasetLogDiffShifting)), linestyle=\"--\",color=\"gray\")\n",
    "plt.axhline (y=1.96/np.sqrt(len(datasetLogDiffShifting)), linestyle=\"--\", color= \"gray\")\n",
    "plt.title(\"Autocorrelation Function\")\n",
    "\n",
    "#Plot PACF:\n",
    "plt.subplot(122)\n",
    "plt.plot(lag_pacf)\n",
    "plt.axhline(y=0,linestyle='--', color=\"gray\")\n",
    "plt.axhline(y=-1.96/np.sqrt(len(datasetLogDiffShifting)), linestyle=\"--\",color='gray')\n",
    "plt.axhline (y=1.96/np.sqrt(len(datasetLogDiffShifting)), linestyle=\"--\",color='gray')\n",
    "plt.title('Partial Autocorrelation Function')\n",
    "\n",
    "plt.tight_layout()"
   ]
  },
  {
   "cell_type": "code",
   "execution_count": null,
   "metadata": {
    "colab": {
     "base_uri": "https://localhost:8080/"
    },
    "id": "HMFXU8FsZoVz",
    "outputId": "f8795605-3117-42cc-e0e2-18b51ca60ead"
   },
   "outputs": [],
   "source": [
    "from statsmodels.tsa.stattools import arma_order_select_ic\n",
    "arma_order_select_ic(datasetLogDiffShifting)"
   ]
  },
  {
   "cell_type": "markdown",
   "metadata": {
    "id": "inYbn23XZ43T"
   },
   "source": [
    "## AR Model"
   ]
  },
  {
   "cell_type": "code",
   "execution_count": null,
   "metadata": {
    "colab": {
     "base_uri": "https://localhost:8080/",
     "height": 995
    },
    "id": "dNDBSzltZ-Lv",
    "outputId": "17a72e1e-29cb-4a25-c3ee-d78dd3d5ca95"
   },
   "outputs": [],
   "source": [
    "from statsmodels.tsa.arima_model import ARIMA\n",
    "\n",
    "#AR MODEL\n",
    "print(\"Plotting AR model\")\n",
    "model = ARIMA(indexedDataset_logscale, order=(2, 1, 0))\n",
    "results_AR = model.fit(disp=-1)\n",
    "plt.plot(results_AR. fittedvalues, color=\"red\")\n",
    "title = sum((results_AR.fittedvalues - datasetLogDiffShifting [\"#Passengers\"])**2)\n",
    "plt.title(f\"RSS: {title:.44}\")\n",
    "plt.show()\n",
    "\n",
    "plt.plot(datasetLogDiffShifting)"
   ]
  },
  {
   "cell_type": "markdown",
   "metadata": {
    "id": "gsJpBK58Z8v1"
   },
   "source": [
    "## MA Model"
   ]
  },
  {
   "cell_type": "code",
   "execution_count": null,
   "metadata": {
    "colab": {
     "base_uri": "https://localhost:8080/",
     "height": 586
    },
    "id": "3eBITcJGalmi",
    "outputId": "f0c7758e-c72b-4105-feb7-04ed3e483291"
   },
   "outputs": [],
   "source": [
    "#MA MODEL\n",
    "model = ARIMA (indexedDataset_logscale, order=(8, 1, 2))\n",
    "results_MA = model.fit(disp=-1)\n",
    "plt.plot(results_MA.fittedvalues, color=\"red\")\n",
    "plt.plot(datasetLogDiffShifting)\n",
    "title = sum((results_MA.fittedvalues - datasetLogDiffShifting[\"#Passengers\"])**2)\n",
    "plt.title(f\"RSS: {title:.44}\")\n",
    "plt.show()"
   ]
  },
  {
   "cell_type": "markdown",
   "metadata": {
    "id": "9jWS6GHrcJKS"
   },
   "source": [
    "## ARIMA"
   ]
  },
  {
   "cell_type": "code",
   "execution_count": null,
   "metadata": {
    "colab": {
     "base_uri": "https://localhost:8080/",
     "height": 396
    },
    "id": "yWnPvtyPcKrl",
    "outputId": "5c7d8d2e-e079-4210-c814-5ee30408e244"
   },
   "outputs": [],
   "source": [
    "from statsmodels.tsa.arima_model import ARIMA\n",
    "\n",
    "model = ARIMA (indexedDataset_logscale, order=(2, 1, 2))\n",
    "results_ARIMA = model.fit()\n",
    "plt.plot(datasetLogDiffShifting)\n",
    "plt.plot(results_ARIMA. fittedvalues, color='red')\n",
    "plt.title('RSS: %.4f'% sum((results_ARIMA. fittedvalues-datasetLogDiffShifting[\"#Passengers\"])**2))"
   ]
  },
  {
   "cell_type": "markdown",
   "metadata": {
    "id": "seXNseOTdaG9"
   },
   "source": [
    "### Getting Predictions"
   ]
  },
  {
   "cell_type": "code",
   "execution_count": null,
   "metadata": {
    "colab": {
     "base_uri": "https://localhost:8080/"
    },
    "id": "MsMd0jlDdXoQ",
    "outputId": "c2d9700d-e358-45f1-963f-4911aef2bf8a"
   },
   "outputs": [],
   "source": [
    "predictions_ARIMA_diff = pd.Series (results_ARIMA. fittedvalues, copy=True)\n",
    "print(predictions_ARIMA_diff.head())"
   ]
  },
  {
   "cell_type": "markdown",
   "metadata": {
    "id": "Bmb6WD33dq7H"
   },
   "source": [
    "Remember the predictions are in Log_differenceed values.We need to convert them to original form"
   ]
  },
  {
   "cell_type": "code",
   "execution_count": null,
   "metadata": {
    "colab": {
     "base_uri": "https://localhost:8080/"
    },
    "id": "6nYgMejodjBe",
    "outputId": "41e141da-9b8b-4353-fac4-2ae82217e856"
   },
   "outputs": [],
   "source": [
    "#Convert to cumulative sum\n",
    "predictions_ARIMA_diff_cumsum = predictions_ARIMA_diff.cumsum()\n",
    "print(predictions_ARIMA_diff_cumsum.head())"
   ]
  },
  {
   "cell_type": "code",
   "execution_count": null,
   "metadata": {
    "colab": {
     "base_uri": "https://localhost:8080/"
    },
    "id": "uURs13TgdpNJ",
    "outputId": "042ecac9-1808-4510-ec39-68540df12aea"
   },
   "outputs": [],
   "source": [
    "predictions_ARIMA_log = pd.Series(indexedDataset_logscale[\"#Passengers\"].iloc[0], index=indexedDataset_logscale.index)\n",
    "predictions_ARIMA_log = predictions_ARIMA_log.add(predictions_ARIMA_diff_cumsum, fill_value=0)\n",
    "predictions_ARIMA_log.head()"
   ]
  },
  {
   "cell_type": "code",
   "execution_count": null,
   "metadata": {
    "colab": {
     "base_uri": "https://localhost:8080/",
     "height": 269
    },
    "id": "wrvrUZvVeAu5",
    "outputId": "b53fc13f-d7ae-4dfa-fc12-82bfa4627450"
   },
   "outputs": [],
   "source": [
    "predictions_ARIMA = np.exp(predictions_ARIMA_log)\n",
    "plt.plot(indexedDataset)\n",
    "plt.plot(predictions_ARIMA)\n",
    "plt.show()"
   ]
  },
  {
   "cell_type": "code",
   "execution_count": null,
   "metadata": {
    "colab": {
     "base_uri": "https://localhost:8080/"
    },
    "id": "hMrH-FYieY1n",
    "outputId": "2247a757-f607-49f5-c239-d042c86b4097",
    "tags": []
   },
   "outputs": [],
   "source": [
    "results_ARIMA.forecast(steps = 120)"
   ]
  },
  {
   "cell_type": "code",
   "execution_count": null,
   "metadata": {},
   "outputs": [],
   "source": [
    "results_ARIMA.plot_predict(1,264)"
   ]
  },
  {
   "cell_type": "markdown",
   "metadata": {
    "id": "hVd8kp9ceo5J"
   },
   "source": [
    "## How to get better results\n",
    "- Use Seasonal models\n",
    "- Use Other Features\n",
    "- Combining the above two tasks using SARIMAX model"
   ]
  }
 ],
 "metadata": {
  "colab": {
   "provenance": []
  },
  "kernelspec": {
   "display_name": "Python 3 (ipykernel)",
   "language": "python",
   "name": "python3"
  },
  "language_info": {
   "codemirror_mode": {
    "name": "ipython",
    "version": 3
   },
   "file_extension": ".py",
   "mimetype": "text/x-python",
   "name": "python",
   "nbconvert_exporter": "python",
   "pygments_lexer": "ipython3",
   "version": "3.9.12"
  }
 },
 "nbformat": 4,
 "nbformat_minor": 4
}

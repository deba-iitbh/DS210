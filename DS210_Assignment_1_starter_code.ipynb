{
 "cells": [
  {
   "cell_type": "markdown",
   "id": "158fc797-598c-4bbf-a4ad-5dd9eb8f1810",
   "metadata": {},
   "source": [
    "# Data Analysis and Visualization Assignment-1\n",
    "\n",
    "## Team Memebers (NAME + ROLL)\n",
    "-   \n",
    "-   \n",
    "-  "
   ]
  },
  {
   "cell_type": "markdown",
   "id": "ea44e71d-4b22-4f0c-8b49-793407c0fe99",
   "metadata": {},
   "source": [
    "# Data Scraping + EDA"
   ]
  },
  {
   "cell_type": "code",
   "execution_count": null,
   "id": "5636170a-3ea7-49dd-8043-e2a9cd1b4fc2",
   "metadata": {
    "tags": []
   },
   "outputs": [],
   "source": [
    "!pip install beautifulsoup4 selenium webdriver_manager tqdm"
   ]
  },
  {
   "cell_type": "markdown",
   "id": "c82b0ba1-7dc0-4431-8e3d-f7f1a95112d7",
   "metadata": {
    "jp-MarkdownHeadingCollapsed": true,
    "tags": []
   },
   "source": [
    "## Import Libraries"
   ]
  },
  {
   "cell_type": "code",
   "execution_count": null,
   "id": "7c412ccd-9e5e-4a3a-b084-4da229040897",
   "metadata": {},
   "outputs": [],
   "source": [
    "import time\n",
    "import os\n",
    "import re\n",
    "from bs4 import BeautifulSoup\n",
    "from selenium import webdriver\n",
    "from webdriver_manager.chrome import ChromeDriverManager\n",
    "from selenium.webdriver.chrome.service import Service\n",
    "from selenium.webdriver.chrome.options import Options\n",
    "from tqdm import tqdm"
   ]
  },
  {
   "cell_type": "markdown",
   "id": "27db8064-bcbf-42ca-877f-89170d6054a3",
   "metadata": {
    "jp-MarkdownHeadingCollapsed": true,
    "tags": []
   },
   "source": [
    "## Websriver Creation"
   ]
  },
  {
   "cell_type": "code",
   "execution_count": null,
   "id": "b0b71750-b5c3-413d-9d7f-1c0e89826788",
   "metadata": {
    "tags": []
   },
   "outputs": [],
   "source": [
    "# Driver creation\n",
    "chrome_options = Options() # Initializing am options object \n",
    "\n",
    "# chrome_options.add_argument(\"--headless\") # Ensure GUI is off\n",
    "chrome_options.add_argument(\"--no-sandbox\")\n",
    "chrome_options.binary_location = \"/sbin/brave\" # optional, if you don't have chrome\n",
    "\n",
    "# Silent download of drivers\n",
    "os.environ['WDM_LOG'] = 'False'\n",
    "\n",
    "# Create service\n",
    "webdriver_service = Service(ChromeDriverManager().install())\n",
    "driver = webdriver.Chrome(service = webdriver_service, options = chrome_options)"
   ]
  },
  {
   "cell_type": "markdown",
   "id": "ef0dd773-f22d-472f-9613-201517176181",
   "metadata": {},
   "source": [
    "## Data Scraping\n",
    "Scrape the job-postings for the following roles in India:\n",
    "- Data Engineer\n",
    "- Data Analyst\n",
    "- Data Scientist\n",
    "- Machine Learning Engineer\n",
    "\n",
    "**Instructions**\n",
    "- Scrape 300 Job postings per role\n",
    "- For each job posting, extract the following information:\n",
    "     - job_title\n",
    "     - job_role (one of the above 4)\n",
    "     - company\n",
    "     - job_location\n",
    "     - job_summary\n",
    "     - post_date (posted how many days ago)\n",
    "     - today (date)\n",
    "     - job_salary(if not present, fill it with NaN)\n",
    "     - Job_url\n",
    "- Create a dataframe from this information"
   ]
  },
  {
   "cell_type": "code",
   "execution_count": null,
   "id": "b27e9b75-266b-421f-893a-b75fb7e885ac",
   "metadata": {
    "tags": []
   },
   "outputs": [],
   "source": [
    "roles = ['Data Engineer', 'Data Analyst', 'Data Scientist', 'Machine Learning Engineer']\n",
    "# Scrape 300 Job postings per role\n",
    "for role in roles:\n",
    "    print(f\"Companies offering jobs for {role} role:-\")\n",
    "    for i in range(30):\n",
    "        link = f\"https://in.indeed.com/jobs?q={role.replace(' ', '+')}&l=India&start={10*i}\"\n",
    "        driver.get(link)\n",
    "        page_source = driver.page_source\n",
    "        # Parse 1-page\n",
    "        soup = BeautifulSoup(page_source, 'lxml')"
   ]
  },
  {
   "cell_type": "markdown",
   "id": "15df3182-582c-431a-95d1-b9af3f0cdae4",
   "metadata": {},
   "source": [
    "## Exploratory Data Analysis (EDA)\n",
    "\n",
    "### Data Cleaning\n",
    "- Clean the data.\n",
    "- Calculate the date of posting from the columns('post_data', 'today')\n",
    "- Split the 'job_salary' column into 'job_salary_lower' and 'job_salary_upper'\n",
    "- Create a new column called 'is_remote', which will be true if its a remote job.\n",
    "- Clean the 'job_location' column to include only city name in India, if no city is found, make it by default 'India'. If its remote make the value as 'Remote'\n",
    "\n",
    "### Visualization\n",
    "- How are the jobs distributed geographically?\n",
    "- Show which companies have more than 5 job-postings\n",
    "- Show the distribution of number of characters in description.\n",
    "- Show the distribution of salaries in remote jobs based on roles.\n",
    "- Show the distribution of salaries in 'Bangalore'"
   ]
  },
  {
   "cell_type": "code",
   "execution_count": null,
   "id": "132b38b9-ede2-47bd-9ecc-93715cecb584",
   "metadata": {},
   "outputs": [],
   "source": []
  },
  {
   "cell_type": "markdown",
   "id": "2867cfb6-e21b-474d-8472-cd81c311e3be",
   "metadata": {},
   "source": [
    "# Clustering"
   ]
  },
  {
   "cell_type": "code",
   "execution_count": null,
   "id": "a9dc93d9-3ea2-459a-a9f0-c47de5cf4db1",
   "metadata": {},
   "outputs": [],
   "source": []
  }
 ],
 "metadata": {
  "kernelspec": {
   "display_name": "Python 3 (ipykernel)",
   "language": "python",
   "name": "python3"
  },
  "language_info": {
   "codemirror_mode": {
    "name": "ipython",
    "version": 3
   },
   "file_extension": ".py",
   "mimetype": "text/x-python",
   "name": "python",
   "nbconvert_exporter": "python",
   "pygments_lexer": "ipython3",
   "version": "3.9.12"
  }
 },
 "nbformat": 4,
 "nbformat_minor": 5
}
